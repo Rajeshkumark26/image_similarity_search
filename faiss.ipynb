{
  "nbformat": 4,
  "nbformat_minor": 0,
  "metadata": {
    "colab": {
      "name": "faiss.ipynb",
      "provenance": []
    },
    "kernelspec": {
      "name": "python3",
      "display_name": "Python 3"
    }
  },
  "cells": [
    {
      "cell_type": "code",
      "metadata": {
        "colab": {
          "base_uri": "https://localhost:8080/"
        },
        "id": "RXxTXuk7aqOR",
        "outputId": "eb21ed05-1400-4728-cc89-7e0f789010f0"
      },
      "source": [
        "!pip install faiss-cpu --no-cache"
      ],
      "execution_count": 4,
      "outputs": [
        {
          "output_type": "stream",
          "text": [
            "Collecting faiss-cpu\n",
            "\u001b[?25l  Downloading https://files.pythonhosted.org/packages/5c/f2/ea3c4ae49cd0d1bf21d01244025fd5cb3fb89768aecd5bfb4ef8453a0fdd/faiss_cpu-1.6.5-cp36-cp36m-manylinux2014_x86_64.whl (7.9MB)\n",
            "\u001b[K     |████████████████████████████████| 7.9MB 3.8MB/s \n",
            "\u001b[?25hInstalling collected packages: faiss-cpu\n",
            "Successfully installed faiss-cpu-1.6.5\n"
          ],
          "name": "stdout"
        }
      ]
    },
    {
      "cell_type": "code",
      "metadata": {
        "id": "A-7mi7t2W12u"
      },
      "source": [
        "import json"
      ],
      "execution_count": 86,
      "outputs": []
    },
    {
      "cell_type": "code",
      "metadata": {
        "id": "PnvfAodFa3z4"
      },
      "source": [
        "import faiss"
      ],
      "execution_count": 5,
      "outputs": []
    },
    {
      "cell_type": "code",
      "metadata": {
        "id": "JcRVWh4w-c1N"
      },
      "source": [
        "import os\r\n",
        "import tensorflow as tf\r\n",
        "from tensorflow.keras import layers\r\n",
        "from tensorflow.keras import Model\r\n",
        "import tensorflow as tf\r\n",
        "from tensorflow import keras\r\n",
        "from tensorflow.keras.preprocessing.text import Tokenizer\r\n",
        "from tensorflow.keras.preprocessing.sequence import pad_sequences\r\n",
        "import keras.layers as L\r\n",
        "from keras.models import Model\r\n",
        "from keras import regularizers\r\n",
        "import matplotlib.pyplot as plt\r\n",
        "import seaborn as sns\r\n",
        "import numpy as np\r\n",
        "import pandas as pd"
      ],
      "execution_count": 9,
      "outputs": []
    },
    {
      "cell_type": "code",
      "metadata": {
        "id": "A91OrzpKhbkR"
      },
      "source": [
        "dataset=pd.read_csv('/content/sample_data/prod_tasklist.csv', encoding='cp1252')\r\n",
        "\r\n",
        "sentences=dataset['TASK'].to_list()\r\n",
        "\r\n",
        "vocab_size = 5908\r\n",
        "embedding_dim = 16\r\n",
        "max_length = 10\r\n",
        "trunc_type='post'\r\n",
        "oov_tok = \"<OOV>\"\r\n",
        "\r\n",
        "tokenizer = Tokenizer(num_words = vocab_size, oov_token=\"<OOV>\")\r\n",
        "tokenizer.fit_on_texts(sentences)\r\n",
        "word_index = tokenizer.word_index"
      ],
      "execution_count": 12,
      "outputs": []
    },
    {
      "cell_type": "code",
      "metadata": {
        "id": "1JV6i3u3jM7H"
      },
      "source": [
        "sequences = tokenizer.texts_to_sequences(sentences)\r\n",
        "padded = pad_sequences(sequences, maxlen=max_length, truncating=trunc_type)"
      ],
      "execution_count": 15,
      "outputs": []
    },
    {
      "cell_type": "code",
      "metadata": {
        "id": "O5ijYvNMXzvy"
      },
      "source": [
        "import json\r\n",
        "import numpy as np\r\n",
        "import codecs, json \r\n",
        "\r\n",
        "b = padded.tolist() # nested lists with same data, indices\r\n",
        "file_path = \"/padded.json\" ## your path variable\r\n",
        "json.dump(b, codecs.open(file_path, 'w', encoding='utf-8'), separators=(',', ':'), sort_keys=True, indent=4) ### this saves the array in .json format"
      ],
      "execution_count": 87,
      "outputs": []
    },
    {
      "cell_type": "code",
      "metadata": {
        "colab": {
          "base_uri": "https://localhost:8080/"
        },
        "id": "9wKj-Ut7N4Kn",
        "outputId": "c628a29b-613f-496b-e5c4-14d785830c56"
      },
      "source": [
        "padded"
      ],
      "execution_count": 83,
      "outputs": [
        {
          "output_type": "execute_result",
          "data": {
            "text/plain": [
              "array([[  0,   0,   0, ..., 131, 373,  88],\n",
              "       [  0,   0,   0, ...,   0, 143,  55],\n",
              "       [  0,   0,   0, ..., 272,  47, 266],\n",
              "       ...,\n",
              "       [  0,   0,   0, ...,  50,  67,   1],\n",
              "       [  0,   0,   0, ...,  50,  67,   1],\n",
              "       [  0,   0,   0, ...,  50,  67,   1]], dtype=int32)"
            ]
          },
          "metadata": {
            "tags": []
          },
          "execution_count": 83
        }
      ]
    },
    {
      "cell_type": "code",
      "metadata": {
        "colab": {
          "base_uri": "https://localhost:8080/"
        },
        "id": "TrgD9kzanxqp",
        "outputId": "c7b42083-6c83-4d86-b008-33e81c67f77f"
      },
      "source": [
        "reverse_word_index = dict([(value, key) for (key, value) in word_index.items()])\r\n",
        "def decode_review(text):\r\n",
        "    return ' '.join([reverse_word_index.get(i, '?') for i in text])\r\n",
        "\r\n",
        "print(padded[1])\r\n",
        "print(decode_review(padded[1]))\r\n",
        "print(sentences[1])"
      ],
      "execution_count": 25,
      "outputs": [
        {
          "output_type": "stream",
          "text": [
            "[  0   0   0   0   0   0   0   0 143  55]\n",
            "? ? ? ? ? ? ? ? patch management\n",
            "Patch Management \n"
          ],
          "name": "stdout"
        }
      ]
    },
    {
      "cell_type": "code",
      "metadata": {
        "colab": {
          "base_uri": "https://localhost:8080/"
        },
        "id": "e0uXUBLnjaSC",
        "outputId": "36a7ea5f-9e65-46e1-a669-b803e117ad18"
      },
      "source": [
        "padded.shape"
      ],
      "execution_count": 16,
      "outputs": [
        {
          "output_type": "execute_result",
          "data": {
            "text/plain": [
              "(16971, 10)"
            ]
          },
          "metadata": {
            "tags": []
          },
          "execution_count": 16
        }
      ]
    },
    {
      "cell_type": "code",
      "metadata": {
        "id": "kL8or5yk-hS9"
      },
      "source": [
        "import numpy as np\r\n",
        "import faiss\r\n",
        "\r\n",
        "\r\n",
        "class FaissKNeighbors:\r\n",
        "    def __init__(self, k=5):\r\n",
        "        self.index = None\r\n",
        "        self.y = None\r\n",
        "        self.k = k\r\n",
        "\r\n",
        "    def fit(self, X):\r\n",
        "        self.index = faiss.IndexFlatL2(X.shape[1])\r\n",
        "        self.index.add(X.astype(np.float32))\r\n",
        "        \r\n",
        "\r\n",
        "    def predict(self, X):\r\n",
        "        distances, indices = self.index.search(X.astype(np.float32), k=self.k)\r\n",
        "        # predictions = np.array([np.argmax(np.bincount(x)) for x in votes])\r\n",
        "        return distances,indices"
      ],
      "execution_count": 40,
      "outputs": []
    },
    {
      "cell_type": "code",
      "metadata": {
        "id": "3gPQVY2davOs"
      },
      "source": [
        "knn=FaissKNeighbors(k=10)\r\n",
        "knn.fit(X=padded)"
      ],
      "execution_count": 58,
      "outputs": []
    },
    {
      "cell_type": "code",
      "metadata": {
        "colab": {
          "base_uri": "https://localhost:8080/"
        },
        "id": "y9VDFQYRpKMc",
        "outputId": "f68b9d57-b843-4ee2-8bc8-3541085d1fdf"
      },
      "source": [
        "padded[1].shape"
      ],
      "execution_count": 59,
      "outputs": [
        {
          "output_type": "execute_result",
          "data": {
            "text/plain": [
              "(10,)"
            ]
          },
          "metadata": {
            "tags": []
          },
          "execution_count": 59
        }
      ]
    },
    {
      "cell_type": "code",
      "metadata": {
        "colab": {
          "base_uri": "https://localhost:8080/"
        },
        "id": "G6tA9tdqnrIz",
        "outputId": "a754a61d-0493-47a4-f3c5-ac404f0b32db"
      },
      "source": [
        "i=1\r\n",
        "distances,indices=knn.predict(np.expand_dims(padded[i],axis=0))\r\n",
        "index_list=indices.flatten().tolist()\r\n",
        "res_list = [sentences[i] for i in index_list] \r\n",
        "print('query search :',sentences[i])\r\n",
        "print('recommended scripts',res_list)"
      ],
      "execution_count": 92,
      "outputs": [
        {
          "output_type": "stream",
          "text": [
            "query search : Patch Management \n",
            "recommended scripts ['Patch Management', 'Patch Management ', 'Patch Management', 'Patch Management ', 'Patch Management ', 'OS Installation', 'Process management', 'Reporting Automation', 'Server Patch Management', 'Database Patch Management']\n"
          ],
          "name": "stdout"
        }
      ]
    },
    {
      "cell_type": "code",
      "metadata": {
        "colab": {
          "base_uri": "https://localhost:8080/"
        },
        "id": "Sd6nk_oXS8yy",
        "outputId": "28d32e75-db85-4370-da91-e1eb284895e9"
      },
      "source": [
        "list(set(res_list))[:5]"
      ],
      "execution_count": 82,
      "outputs": [
        {
          "output_type": "execute_result",
          "data": {
            "text/plain": [
              "['Incident Management Report',\n",
              " 'VMware Health Check',\n",
              " 'SLA Daily Report',\n",
              " 'Physical Memory Utilization',\n",
              " 'Vmware Health Check']"
            ]
          },
          "metadata": {
            "tags": []
          },
          "execution_count": 82
        }
      ]
    },
    {
      "cell_type": "code",
      "metadata": {
        "id": "tn6qnlrWNnhQ"
      },
      "source": [
        ""
      ],
      "execution_count": null,
      "outputs": []
    },
    {
      "cell_type": "code",
      "metadata": {
        "colab": {
          "base_uri": "https://localhost:8080/"
        },
        "id": "gvr15gdoq4OU",
        "outputId": "4773126f-9d35-4668-cebe-af447d79f8cb"
      },
      "source": [
        "index_list=indices.flatten().tolist()"
      ],
      "execution_count": 48,
      "outputs": [
        {
          "output_type": "execute_result",
          "data": {
            "text/plain": [
              "[2672, 1, 13949, 8925, 2622]"
            ]
          },
          "metadata": {
            "tags": []
          },
          "execution_count": 48
        }
      ]
    },
    {
      "cell_type": "code",
      "metadata": {
        "colab": {
          "base_uri": "https://localhost:8080/"
        },
        "id": "SJpaAzY2r0xv",
        "outputId": "ef18375d-4f3b-407c-e5d6-e2af1d2b5a22"
      },
      "source": [
        "index_list"
      ],
      "execution_count": 51,
      "outputs": [
        {
          "output_type": "execute_result",
          "data": {
            "text/plain": [
              "[2672, 1, 13949, 8925, 2622]"
            ]
          },
          "metadata": {
            "tags": []
          },
          "execution_count": 51
        }
      ]
    },
    {
      "cell_type": "code",
      "metadata": {
        "colab": {
          "base_uri": "https://localhost:8080/"
        },
        "id": "QH3TFt_8r7Sm",
        "outputId": "d45f9704-191c-44c3-8316-9967a27a7a54"
      },
      "source": [
        "a=np.array(sentences)\r\n",
        "np.unique(a[index_list])"
      ],
      "execution_count": 66,
      "outputs": [
        {
          "output_type": "execute_result",
          "data": {
            "text/plain": [
              "array(['Database Patch Management', 'OS Installation', 'Patch Management',\n",
              "       'Patch Management ', 'Process management', 'Reporting Automation',\n",
              "       'Server Patch Management'], dtype='<U506')"
            ]
          },
          "metadata": {
            "tags": []
          },
          "execution_count": 66
        }
      ]
    },
    {
      "cell_type": "code",
      "metadata": {
        "colab": {
          "base_uri": "https://localhost:8080/"
        },
        "id": "fkyEO3widDwN",
        "outputId": "9d5451c5-3d5f-430a-cb9a-3eaafa5b07c0"
      },
      "source": [
        "from sklearn.neighbors import NearestNeighbors\r\n",
        "nei_clf = NearestNeighbors(p=2,metric='cosine')\r\n",
        "nei_clf.fit(padded)"
      ],
      "execution_count": 89,
      "outputs": [
        {
          "output_type": "execute_result",
          "data": {
            "text/plain": [
              "NearestNeighbors(algorithm='auto', leaf_size=30, metric='cosine',\n",
              "                 metric_params=None, n_jobs=None, n_neighbors=5, p=2,\n",
              "                 radius=1.0)"
            ]
          },
          "metadata": {
            "tags": []
          },
          "execution_count": 89
        }
      ]
    },
    {
      "cell_type": "code",
      "metadata": {
        "colab": {
          "base_uri": "https://localhost:8080/"
        },
        "id": "-SiPzQRbdE6o",
        "outputId": "a25f2ee3-8de5-466b-e6f7-2906a4b8bdfb"
      },
      "source": [
        "distances,indices = nei_clf.kneighbors(np.expand_dims(padded[i],axis=0),n_neighbors=10)\r\n",
        "index_list=indices.flatten().tolist()\r\n",
        "res_list = [sentences[i] for i in index_list] \r\n",
        "print('query search :',sentences[i])\r\n",
        "print('recommended scripts',list(set(res_list))[:5])"
      ],
      "execution_count": 94,
      "outputs": [
        {
          "output_type": "stream",
          "text": [
            "query search : Patch Management \n",
            "recommended scripts ['Backup Report', 'survey link', 'Restore Mail', 'Joiner - Reconciliation', 'Patch Management ']\n"
          ],
          "name": "stdout"
        }
      ]
    }
  ]
}